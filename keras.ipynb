{
  "nbformat": 4,
  "nbformat_minor": 0,
  "metadata": {
    "kernelspec": {
      "name": "python3",
      "display_name": "Python 3"
    },
    "language_info": {
      "codemirror_mode": {
        "name": "ipython",
        "version": 3
      },
      "file_extension": ".py",
      "mimetype": "text/x-python",
      "name": "python",
      "nbconvert_exporter": "python",
      "pygments_lexer": "ipython3",
      "version": "3.6.3"
    },
    "colab": {
      "name": "keras.ipynb",
      "provenance": [],
      "toc_visible": true
    },
    "accelerator": "GPU"
  },
  "cells": [
    {
      "cell_type": "markdown",
      "metadata": {
        "id": "-qOBdcyP6gBI",
        "colab_type": "text"
      },
      "source": [
        "# Keras Tutorial"
      ]
    },
    {
      "cell_type": "markdown",
      "metadata": {
        "id": "QGllbMxt6gBM",
        "colab_type": "text"
      },
      "source": [
        "Keras is a popular deep learning framework and it's easy to get started."
      ]
    },
    {
      "cell_type": "code",
      "metadata": {
        "id": "d8iQRC4a6gBO",
        "colab_type": "code",
        "colab": {}
      },
      "source": [
        "%tensorflow_version 1.x\n",
        "import keras\n",
        "from keras.datasets import mnist\n",
        "from keras.models import Sequential\n",
        "from keras.layers import Dense, Dropout, Flatten, Conv2D, MaxPooling2D\n",
        "\n",
        "BATCH_SIZE = 128\n",
        "NUM_CLASSES = 10\n",
        "NUM_EPOCHS = 10"
      ],
      "execution_count": 0,
      "outputs": []
    },
    {
      "cell_type": "markdown",
      "metadata": {
        "id": "w3gXk48c6gBU",
        "colab_type": "text"
      },
      "source": [
        "First, we read the mnist data and preprocess them."
      ]
    },
    {
      "cell_type": "code",
      "metadata": {
        "id": "8U_hjVEK6gBW",
        "colab_type": "code",
        "colab": {}
      },
      "source": [
        "# download and load the data (split them between train and test sets)\n",
        "(x_train, y_train), (x_test, y_test) = mnist.load_data()\n",
        "\n",
        "# expand the channel dimension\n",
        "x_train = x_train.reshape(x_train.shape[0], 28, 28, 1)\n",
        "x_test = x_test.reshape(x_test.shape[0], 28, 28, 1)\n",
        "input_shape = (28, 28, 1)\n",
        "\n",
        "# make the value of pixels from [0, 255] to [0, 1] for further process\n",
        "x_train = x_train.astype('float32') / 255.\n",
        "x_test = x_test.astype('float32') / 255.\n",
        "\n",
        "# convert class vectors to binary class matrics\n",
        "y_train = keras.utils.to_categorical(y_train, NUM_CLASSES)\n",
        "y_test = keras.utils.to_categorical(y_test, NUM_CLASSES)"
      ],
      "execution_count": 0,
      "outputs": []
    },
    {
      "cell_type": "markdown",
      "metadata": {
        "id": "7r4NDUsG6gBb",
        "colab_type": "text"
      },
      "source": [
        "Then, we define the model, object function and optimizer that we use to classify."
      ]
    },
    {
      "cell_type": "code",
      "metadata": {
        "id": "S4UMRCBZ6gBc",
        "colab_type": "code",
        "colab": {
          "base_uri": "https://localhost:8080/",
          "height": 104
        },
        "outputId": "9edb3421-350c-4d04-a8fa-b74bdeaf81d3"
      },
      "source": [
        "# define the model\n",
        "model = Sequential()\n",
        "model.add(Conv2D(32, kernel_size=(3,3), activation='relu', input_shape=input_shape))\n",
        "model.add(Conv2D(64, kernel_size=(3,3), activation='relu'))\n",
        "model.add(MaxPooling2D(pool_size=(2,2)))\n",
        "model.add(Dropout(0.25))\n",
        "model.add(Flatten())\n",
        "model.add(Dense(128, activation='relu'))\n",
        "model.add(Dropout(0.5))\n",
        "model.add(Dense(NUM_CLASSES, activation='softmax'))\n",
        "\n",
        "# define the object function, optimizer and metrics\n",
        "model.compile(loss=keras.losses.categorical_crossentropy, \n",
        "              optimizer=keras.optimizers.Adadelta(), metrics=['accuracy'])"
      ],
      "execution_count": 6,
      "outputs": [
        {
          "output_type": "stream",
          "text": [
            "WARNING:tensorflow:From /usr/local/lib/python3.6/dist-packages/keras/optimizers.py:793: The name tf.train.Optimizer is deprecated. Please use tf.compat.v1.train.Optimizer instead.\n",
            "\n",
            "WARNING:tensorflow:From /usr/local/lib/python3.6/dist-packages/keras/backend/tensorflow_backend.py:3576: The name tf.log is deprecated. Please use tf.math.log instead.\n",
            "\n"
          ],
          "name": "stdout"
        }
      ]
    },
    {
      "cell_type": "markdown",
      "metadata": {
        "id": "A-nbSV6G6gBh",
        "colab_type": "text"
      },
      "source": [
        "Next, we can start to train and evaluate!"
      ]
    },
    {
      "cell_type": "code",
      "metadata": {
        "id": "pYfvrBuy6gBj",
        "colab_type": "code",
        "colab": {
          "base_uri": "https://localhost:8080/",
          "height": 742
        },
        "outputId": "860a22c6-829b-4de6-a764-248f060b7240"
      },
      "source": [
        "# train\n",
        "model.fit(x_train, y_train, batch_size=BATCH_SIZE, epochs=NUM_EPOCHS, verbose=1,\n",
        "          validation_data=(x_test, y_test))\n",
        "\n",
        "# evaluate\n",
        "score_train = model.evaluate(x_train, y_train, verbose=0)\n",
        "print('Training loss: %.4f, Training accuracy: %.2f%%' % (score_train[0], score_train[1]))\n",
        "score_test = model.evaluate(x_test, y_test, verbose=0)\n",
        "print('Testing loss: %.4f, Testing accuracy: %.2f%%' % (score_test[0], score_test[1]))"
      ],
      "execution_count": 7,
      "outputs": [
        {
          "output_type": "stream",
          "text": [
            "WARNING:tensorflow:From /usr/local/lib/python3.6/dist-packages/tensorflow_core/python/ops/math_grad.py:1424: where (from tensorflow.python.ops.array_ops) is deprecated and will be removed in a future version.\n",
            "Instructions for updating:\n",
            "Use tf.where in 2.0, which has the same broadcast rule as np.where\n",
            "WARNING:tensorflow:From /usr/local/lib/python3.6/dist-packages/keras/backend/tensorflow_backend.py:1033: The name tf.assign_add is deprecated. Please use tf.compat.v1.assign_add instead.\n",
            "\n",
            "WARNING:tensorflow:From /usr/local/lib/python3.6/dist-packages/keras/backend/tensorflow_backend.py:1020: The name tf.assign is deprecated. Please use tf.compat.v1.assign instead.\n",
            "\n",
            "WARNING:tensorflow:From /usr/local/lib/python3.6/dist-packages/keras/backend/tensorflow_backend.py:3005: The name tf.Session is deprecated. Please use tf.compat.v1.Session instead.\n",
            "\n",
            "Train on 60000 samples, validate on 10000 samples\n",
            "Epoch 1/10\n",
            "WARNING:tensorflow:From /usr/local/lib/python3.6/dist-packages/keras/backend/tensorflow_backend.py:190: The name tf.get_default_session is deprecated. Please use tf.compat.v1.get_default_session instead.\n",
            "\n",
            "WARNING:tensorflow:From /usr/local/lib/python3.6/dist-packages/keras/backend/tensorflow_backend.py:197: The name tf.ConfigProto is deprecated. Please use tf.compat.v1.ConfigProto instead.\n",
            "\n",
            "WARNING:tensorflow:From /usr/local/lib/python3.6/dist-packages/keras/backend/tensorflow_backend.py:207: The name tf.global_variables is deprecated. Please use tf.compat.v1.global_variables instead.\n",
            "\n",
            "WARNING:tensorflow:From /usr/local/lib/python3.6/dist-packages/keras/backend/tensorflow_backend.py:216: The name tf.is_variable_initialized is deprecated. Please use tf.compat.v1.is_variable_initialized instead.\n",
            "\n",
            "WARNING:tensorflow:From /usr/local/lib/python3.6/dist-packages/keras/backend/tensorflow_backend.py:223: The name tf.variables_initializer is deprecated. Please use tf.compat.v1.variables_initializer instead.\n",
            "\n",
            "60000/60000 [==============================] - 17s 290us/step - loss: 0.2794 - acc: 0.9143 - val_loss: 0.0580 - val_acc: 0.9811\n",
            "Epoch 2/10\n",
            "60000/60000 [==============================] - 9s 151us/step - loss: 0.0903 - acc: 0.9728 - val_loss: 0.0459 - val_acc: 0.9851\n",
            "Epoch 3/10\n",
            "60000/60000 [==============================] - 9s 152us/step - loss: 0.0675 - acc: 0.9797 - val_loss: 0.0361 - val_acc: 0.9883\n",
            "Epoch 4/10\n",
            "60000/60000 [==============================] - 9s 151us/step - loss: 0.0560 - acc: 0.9833 - val_loss: 0.0356 - val_acc: 0.9888\n",
            "Epoch 5/10\n",
            "60000/60000 [==============================] - 9s 150us/step - loss: 0.0491 - acc: 0.9853 - val_loss: 0.0321 - val_acc: 0.9890\n",
            "Epoch 6/10\n",
            "60000/60000 [==============================] - 9s 152us/step - loss: 0.0442 - acc: 0.9864 - val_loss: 0.0294 - val_acc: 0.9904\n",
            "Epoch 7/10\n",
            "60000/60000 [==============================] - 9s 150us/step - loss: 0.0392 - acc: 0.9879 - val_loss: 0.0275 - val_acc: 0.9908\n",
            "Epoch 8/10\n",
            "60000/60000 [==============================] - 9s 148us/step - loss: 0.0348 - acc: 0.9898 - val_loss: 0.0287 - val_acc: 0.9916\n",
            "Epoch 9/10\n",
            "60000/60000 [==============================] - 9s 149us/step - loss: 0.0336 - acc: 0.9896 - val_loss: 0.0325 - val_acc: 0.9896\n",
            "Epoch 10/10\n",
            "60000/60000 [==============================] - 9s 147us/step - loss: 0.0307 - acc: 0.9910 - val_loss: 0.0307 - val_acc: 0.9902\n",
            "Training loss: 0.0112, Training accuracy: 1.00%\n",
            "Testing loss: 0.0307, Testing accuracy: 0.99%\n"
          ],
          "name": "stdout"
        }
      ]
    },
    {
      "cell_type": "markdown",
      "metadata": {
        "id": "cveACv3W6gBn",
        "colab_type": "text"
      },
      "source": [
        "#### Q6:\n",
        "Please print the training and testing accuracy."
      ]
    }
  ]
}